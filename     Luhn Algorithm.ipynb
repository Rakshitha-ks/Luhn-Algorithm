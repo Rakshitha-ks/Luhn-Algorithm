{
 "cells": [
  {
   "cell_type": "code",
   "execution_count": null,
   "metadata": {},
   "outputs": [],
   "source": [
    "# Luhn Algorithm is a formula to validate a variety of identification numbers.\n",
    "\n",
    "def verify_card_number(card_number):\n",
    "    \n",
    "    # reversing the card number\n",
    "    card_number_reversed = card_number[::-1]\n",
    "    \n",
    "    # adding the digits in odd index\n",
    "    sum_of_odd_digits = 0\n",
    "    odd_digits = card_number_reversed[::2]\n",
    "    for digit in odd_digits:\n",
    "        sum_of_odd_digits += int(digit)\n",
    "    \n",
    "    # multiplying the digits in even index with itself and adding the product if it's greater than 9\n",
    "    sum_of_even_digits = 0\n",
    "    even_digits = card_number_reversed[1::2]\n",
    "    for digit in even_digits:\n",
    "        number = int(digit) * 2\n",
    "        if number >= 10:\n",
    "            number = (number // 10) + (number % 10)\n",
    "        sum_of_even_digits += number\n",
    "    \n",
    "    # adding the sum of odd and even digits to check if the total is divisible by 10\n",
    "    total = sum_of_odd_digits + sum_of_even_digits\n",
    "    return 0==total%10\n",
    "\n",
    "def main():\n",
    "    \n",
    "    # taking the card number as input and translating it to a string of only numbers\n",
    "    card_number = input(\"Enter the card number (ex: xxxx-xxxx-xxxx-xxxx) :  \")\n",
    "    card_translation = str.maketrans({'-':'', ' ':''})\n",
    "    translated_card_number = card_number.translate(card_translation)\n",
    "    \n",
    "    if verify_card_number(translated_card_number):\n",
    "        print('VALID!')\n",
    "    else:\n",
    "        print('INVALID!')\n",
    "   \n",
    "main()"
   ]
  }
 ],
 "metadata": {
  "kernelspec": {
   "display_name": "Python 3",
   "language": "python",
   "name": "python3"
  },
  "language_info": {
   "codemirror_mode": {
    "name": "ipython",
    "version": 3
   },
   "file_extension": ".py",
   "mimetype": "text/x-python",
   "name": "python",
   "nbconvert_exporter": "python",
   "pygments_lexer": "ipython3",
   "version": "3.8.5"
  }
 },
 "nbformat": 4,
 "nbformat_minor": 4
}
